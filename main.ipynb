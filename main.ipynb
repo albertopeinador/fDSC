{
 "cells": [
  {
   "cell_type": "markdown",
   "metadata": {},
   "source": [
    "Import relevant modules"
   ]
  },
  {
   "cell_type": "code",
   "execution_count": 1,
   "metadata": {},
   "outputs": [],
   "source": [
    "import matplotlib.pyplot as plt\n",
    "import numpy as np\n",
    "import pandas as pd\n",
    "import filehandler as tx\n",
    "import os\n",
    "import re"
   ]
  },
  {
   "cell_type": "markdown",
   "metadata": {},
   "source": [
    "Global variables"
   ]
  },
  {
   "cell_type": "code",
   "execution_count": 2,
   "metadata": {},
   "outputs": [
    {
     "data": {
      "text/plain": [
       "{-80: ['Segment08_minus80degree.txt', 'Segment12_minus80degree_ref.txt'],\n",
       " 100: ['Segment98_100degree.txt', 'Segment102_100degree_ref.txt'],\n",
       " 120: ['Segment108_120degree.txt', 'Segment112_120degree_ref.txt'],\n",
       " 140: ['Segment118_140degree.txt', 'Segment122_140degree_ref.txt'],\n",
       " 160: ['Segment128_160degree.txt', 'Segment132_160degree_ref.txt'],\n",
       " 180: ['Segment138_180degree.txt', 'Segment142_180degree_ref.txt'],\n",
       " 200: ['Segment148_200degree.txt', 'Segment152_200degree_ref.txt'],\n",
       " 220: ['Segment158_220degree.txt', 'Segment162_220degree_ref.txt'],\n",
       " 240: ['Segment168_240degree.txt', 'Segment172_240degree_ref.txt'],\n",
       " 260: ['Segment178_260degree.txt', 'Segment182_260degree_ref.txt'],\n",
       " -60: ['Segment18_minus60degree.txt', 'Segment22_minus60degree_ref.txt'],\n",
       " -40: ['Segment28_minus40degree.txt', 'Segment32_minus40degree_ref.txt'],\n",
       " -20: ['Segment38_minus20degree.txt', 'Segment42_minus20degree_ref.txt'],\n",
       " 0: ['Segment48_0degree.txt', 'Segment52_0degree_ref.txt'],\n",
       " 20: ['Segment58_20degree.txt', 'Segment62_20degree_ref.txt'],\n",
       " 40: ['Segment68_40degree.txt', 'Segment72_40degree_ref.txt'],\n",
       " 60: ['Segment78_60degree.txt', 'Segment82_60degree_ref.txt'],\n",
       " 80: ['Segment88_80degree.txt', 'Segment92_80degree_ref.txt']}"
      ]
     },
     "execution_count": 2,
     "metadata": {},
     "output_type": "execute_result"
    }
   ],
   "source": [
    "separation_step = .1            #percentage by which it lowers each curve until it is lower than all others\n",
    "\n",
    "temps = {}\n",
    "\n",
    "main_dir = '90815 (Bulk 28kDa)/Annealing30min2kto260'\n",
    "\n",
    "tx.files_to_dict(main_dir)"
   ]
  },
  {
   "cell_type": "code",
   "execution_count": null,
   "metadata": {},
   "outputs": [],
   "source": []
  }
 ],
 "metadata": {
  "kernelspec": {
   "display_name": "Python 3",
   "language": "python",
   "name": "python3"
  },
  "language_info": {
   "codemirror_mode": {
    "name": "ipython",
    "version": 3
   },
   "file_extension": ".py",
   "mimetype": "text/x-python",
   "name": "python",
   "nbconvert_exporter": "python",
   "pygments_lexer": "ipython3",
   "version": "3.11.9"
  }
 },
 "nbformat": 4,
 "nbformat_minor": 2
}
