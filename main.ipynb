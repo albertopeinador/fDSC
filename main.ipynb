{
 "cells": [
  {
   "cell_type": "markdown",
   "metadata": {},
   "source": [
    "Import relevant modules"
   ]
  },
  {
   "cell_type": "code",
   "execution_count": 15,
   "metadata": {},
   "outputs": [],
   "source": [
    "import matplotlib.pyplot as plt\n",
    "import numpy as np\n",
    "import pandas as pd\n",
    "import txtmod as tx\n",
    "import os\n",
    "import re"
   ]
  },
  {
   "cell_type": "markdown",
   "metadata": {},
   "source": [
    "Global variables"
   ]
  },
  {
   "cell_type": "code",
   "execution_count": 16,
   "metadata": {},
   "outputs": [
    {
     "ename": "AttributeError",
     "evalue": "module 'txtmod' has no attribute 'get_files_dict'",
     "output_type": "error",
     "traceback": [
      "\u001b[0;31m---------------------------------------------------------------------------\u001b[0m",
      "\u001b[0;31mAttributeError\u001b[0m                            Traceback (most recent call last)",
      "Cell \u001b[0;32mIn [16], line 22\u001b[0m\n\u001b[1;32m      5\u001b[0m main_dir \u001b[38;5;241m=\u001b[39m \u001b[38;5;124m'\u001b[39m\u001b[38;5;124m90815 (Bulk 28kDa)/Annealing30min2kto260\u001b[39m\u001b[38;5;124m'\u001b[39m\n\u001b[1;32m      6\u001b[0m \u001b[38;5;124;03m'''\u001b[39;00m\n\u001b[1;32m      7\u001b[0m \u001b[38;5;124;03mfor i in os.listdir(main_dir):\u001b[39;00m\n\u001b[1;32m      8\u001b[0m \u001b[38;5;124;03m    match = re.search(r'_(minus )?(\\d+)\\s*degree(_ref)?', i)\u001b[39;00m\n\u001b[0;32m   (...)\u001b[0m\n\u001b[1;32m     20\u001b[0m \u001b[38;5;124;03m            temps[number][0] = i\u001b[39;00m\n\u001b[1;32m     21\u001b[0m \u001b[38;5;124;03m'''\u001b[39;00m\n\u001b[0;32m---> 22\u001b[0m \u001b[43mtx\u001b[49m\u001b[38;5;241;43m.\u001b[39;49m\u001b[43mget_files_dict\u001b[49m(main_dir)\n",
      "\u001b[0;31mAttributeError\u001b[0m: module 'txtmod' has no attribute 'get_files_dict'"
     ]
    }
   ],
   "source": [
    "separation_step = .1            #percentage by which it lowers each curve until it is lower than all others\n",
    "\n",
    "temps = {}\n",
    "\n",
    "main_dir = '90815 (Bulk 28kDa)/Annealing30min2kto260'\n",
    "'''\n",
    "for i in os.listdir(main_dir):\n",
    "    match = re.search(r'_(minus )?(\\d+)\\s*degree(_ref)?', i)\n",
    "    if match:\n",
    "        number_str = match.group(2)\n",
    "        number = int(number_str)\n",
    "        if match.group(1):\n",
    "            number = -number\n",
    "        if number not in temps:\n",
    "            temps[number] = [None, None]\n",
    "        if match.group(3):\n",
    "            temps[number][1] = i\n",
    "        else:\n",
    "            # Otherwise, place it in the first slot (index 0)\n",
    "            temps[number][0] = i\n",
    "'''\n",
    "tx.get_files_dict(main_dir)"
   ]
  },
  {
   "cell_type": "code",
   "execution_count": null,
   "metadata": {},
   "outputs": [],
   "source": []
  }
 ],
 "metadata": {
  "kernelspec": {
   "display_name": "Python 3",
   "language": "python",
   "name": "python3"
  },
  "language_info": {
   "codemirror_mode": {
    "name": "ipython",
    "version": 3
   },
   "file_extension": ".py",
   "mimetype": "text/x-python",
   "name": "python",
   "nbconvert_exporter": "python",
   "pygments_lexer": "ipython3",
   "version": "3.8.18"
  }
 },
 "nbformat": 4,
 "nbformat_minor": 2
}
